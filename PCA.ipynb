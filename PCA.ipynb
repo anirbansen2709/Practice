{
  "nbformat": 4,
  "nbformat_minor": 0,
  "metadata": {
    "colab": {
      "provenance": [],
      "authorship_tag": "ABX9TyPm4u4gOxn3f6szZqS+zGDF",
      "include_colab_link": true
    },
    "kernelspec": {
      "name": "python3",
      "display_name": "Python 3"
    },
    "language_info": {
      "name": "python"
    }
  },
  "cells": [
    {
      "cell_type": "markdown",
      "metadata": {
        "id": "view-in-github",
        "colab_type": "text"
      },
      "source": [
        "<a href=\"https://colab.research.google.com/github/anirbansen2709/Practice/blob/main/PCA.ipynb\" target=\"_parent\"><img src=\"https://colab.research.google.com/assets/colab-badge.svg\" alt=\"Open In Colab\"/></a>"
      ]
    },
    {
      "cell_type": "code",
      "execution_count": 1,
      "metadata": {
        "id": "0ApcGeIQOC1e"
      },
      "outputs": [],
      "source": [
        "import numpy as np\n",
        "from sklearn import datasets"
      ]
    },
    {
      "cell_type": "code",
      "source": [
        "class PCA:\n",
        "  def __init__(self, n_components):\n",
        "    self.n_components = n_components\n",
        "    self.mean = None\n",
        "    self.components = None\n",
        "\n",
        "  def fit(self, X):\n",
        "    # mean centering\n",
        "    self.mean = np.mean(X, axis = 0) # axis = 0 for cols\n",
        "    X = X - self.mean\n",
        "    # covariance\n",
        "    covar = np.cov(X.T) # has rows and cols as input rows shape\n",
        "    # eig\n",
        "    eigen_vectors, eigen_values = np.linalg.eig(covar)\n",
        "    # sort\n",
        "    eigen_vectors = eigen_vectors.T\n",
        "    idxs = np.argsort(eigen_values)[::-1] # highest eigenvalue indexes\n",
        "    eigen_values = eigen_values[idxs]\n",
        "    eigen_vectors = eigen_vectors[idxs]\n",
        "    self.components = eigen_vectors[:self.n_components]\n",
        "    print(self.components)\n",
        "\n",
        "  def transform(self, X):\n",
        "    X = X - self.mean\n",
        "    return np.dot(X, self.components.T)"
      ],
      "metadata": {
        "id": "VzOM-SbkVEiR"
      },
      "execution_count": 15,
      "outputs": []
    },
    {
      "cell_type": "code",
      "source": [
        "data = datasets.load_iris()\n",
        "X = data.data\n",
        "\n",
        "pca = PCA(2)\n",
        "pca.fit(X)\n",
        "X_proj = pca.transform(X)"
      ],
      "metadata": {
        "colab": {
          "base_uri": "https://localhost:8080/"
        },
        "id": "Fn1BF_i2VNXY",
        "outputId": "6dd9604f-a1ca-4d3c-e960-861e44d39f1d"
      },
      "execution_count": 16,
      "outputs": [
        {
          "output_type": "stream",
          "name": "stdout",
          "text": [
            "[[0.24267075 4.22824171 0.0782095  0.02383509]\n",
            " [0.02383509 0.0782095  0.24267075 4.22824171]]\n"
          ]
        }
      ]
    }
  ]
}