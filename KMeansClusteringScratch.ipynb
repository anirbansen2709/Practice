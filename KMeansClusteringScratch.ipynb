{
  "nbformat": 4,
  "nbformat_minor": 0,
  "metadata": {
    "colab": {
      "name": "KMeansClusteringScratch.ipynb",
      "provenance": [],
      "collapsed_sections": [],
      "authorship_tag": "ABX9TyOXtojFt4HHU3cY/UnjWr0A",
      "include_colab_link": true
    },
    "kernelspec": {
      "name": "python3",
      "display_name": "Python 3"
    }
  },
  "cells": [
    {
      "cell_type": "markdown",
      "metadata": {
        "id": "view-in-github",
        "colab_type": "text"
      },
      "source": [
        "<a href=\"https://colab.research.google.com/github/anirbansen3027/Practice/blob/main/KMeansClusteringScratch.ipynb\" target=\"_parent\"><img src=\"https://colab.research.google.com/assets/colab-badge.svg\" alt=\"Open In Colab\"/></a>"
      ]
    },
    {
      "cell_type": "code",
      "metadata": {
        "id": "7azsGe1yCRcn"
      },
      "source": [
        "import numpy as np\n",
        "import pandas as pd\n",
        "from sklearn.datasets import load_iris\n",
        "from sklearn.preprocessing import StandardScaler\n",
        "import matplotlib.pyplot as plt\n",
        "from sklearn.cluster import KMeans\n",
        "from sklearn.metrics import silhouette_samples, silhouette_score\n",
        "import seaborn as sns"
      ],
      "execution_count": 229,
      "outputs": []
    },
    {
      "cell_type": "code",
      "metadata": {
        "id": "maFd9rsgDFii"
      },
      "source": [
        "data = load_iris()\n",
        "df = pd.DataFrame(data.data, columns=data.feature_names)"
      ],
      "execution_count": 5,
      "outputs": []
    },
    {
      "cell_type": "code",
      "metadata": {
        "colab": {
          "base_uri": "https://localhost:8080/",
          "height": 204
        },
        "id": "DyeznUeyNEqC",
        "outputId": "2c0f1a62-1655-40a1-ae57-0f7574268b02"
      },
      "source": [
        "scaler = StandardScaler()\n",
        "X = scaler.fit_transform(df)\n",
        "X = pd.DataFrame(X, columns = df.columns)\n",
        "X.head()"
      ],
      "execution_count": 168,
      "outputs": [
        {
          "output_type": "execute_result",
          "data": {
            "text/html": [
              "<div>\n",
              "<style scoped>\n",
              "    .dataframe tbody tr th:only-of-type {\n",
              "        vertical-align: middle;\n",
              "    }\n",
              "\n",
              "    .dataframe tbody tr th {\n",
              "        vertical-align: top;\n",
              "    }\n",
              "\n",
              "    .dataframe thead th {\n",
              "        text-align: right;\n",
              "    }\n",
              "</style>\n",
              "<table border=\"1\" class=\"dataframe\">\n",
              "  <thead>\n",
              "    <tr style=\"text-align: right;\">\n",
              "      <th></th>\n",
              "      <th>sepal length (cm)</th>\n",
              "      <th>sepal width (cm)</th>\n",
              "      <th>petal length (cm)</th>\n",
              "      <th>petal width (cm)</th>\n",
              "    </tr>\n",
              "  </thead>\n",
              "  <tbody>\n",
              "    <tr>\n",
              "      <th>0</th>\n",
              "      <td>-0.900681</td>\n",
              "      <td>1.019004</td>\n",
              "      <td>-1.340227</td>\n",
              "      <td>-1.315444</td>\n",
              "    </tr>\n",
              "    <tr>\n",
              "      <th>1</th>\n",
              "      <td>-1.143017</td>\n",
              "      <td>-0.131979</td>\n",
              "      <td>-1.340227</td>\n",
              "      <td>-1.315444</td>\n",
              "    </tr>\n",
              "    <tr>\n",
              "      <th>2</th>\n",
              "      <td>-1.385353</td>\n",
              "      <td>0.328414</td>\n",
              "      <td>-1.397064</td>\n",
              "      <td>-1.315444</td>\n",
              "    </tr>\n",
              "    <tr>\n",
              "      <th>3</th>\n",
              "      <td>-1.506521</td>\n",
              "      <td>0.098217</td>\n",
              "      <td>-1.283389</td>\n",
              "      <td>-1.315444</td>\n",
              "    </tr>\n",
              "    <tr>\n",
              "      <th>4</th>\n",
              "      <td>-1.021849</td>\n",
              "      <td>1.249201</td>\n",
              "      <td>-1.340227</td>\n",
              "      <td>-1.315444</td>\n",
              "    </tr>\n",
              "  </tbody>\n",
              "</table>\n",
              "</div>"
            ],
            "text/plain": [
              "   sepal length (cm)  sepal width (cm)  petal length (cm)  petal width (cm)\n",
              "0          -0.900681          1.019004          -1.340227         -1.315444\n",
              "1          -1.143017         -0.131979          -1.340227         -1.315444\n",
              "2          -1.385353          0.328414          -1.397064         -1.315444\n",
              "3          -1.506521          0.098217          -1.283389         -1.315444\n",
              "4          -1.021849          1.249201          -1.340227         -1.315444"
            ]
          },
          "metadata": {
            "tags": []
          },
          "execution_count": 168
        }
      ]
    },
    {
      "cell_type": "code",
      "metadata": {
        "colab": {
          "base_uri": "https://localhost:8080/",
          "height": 82
        },
        "id": "lVQ7uWtQozJt",
        "outputId": "8faae685-4582-4dcc-8f0e-396f6e7a9ab0"
      },
      "source": [
        "cor = X.corr()\n",
        "cor.style.background_gradient(cmap = 'coolwarm')"
      ],
      "execution_count": 177,
      "outputs": [
        {
          "output_type": "execute_result",
          "data": {
            "text/html": [
              "<style  type=\"text/css\" >\n",
              "#T_6e525a4e_5fd1_11eb_bd18_0242ac1c0002row0_col0,#T_6e525a4e_5fd1_11eb_bd18_0242ac1c0002row1_col1{\n",
              "            background-color:  #b40426;\n",
              "            color:  #f1f1f1;\n",
              "        }#T_6e525a4e_5fd1_11eb_bd18_0242ac1c0002row0_col1,#T_6e525a4e_5fd1_11eb_bd18_0242ac1c0002row1_col0{\n",
              "            background-color:  #3b4cc0;\n",
              "            color:  #f1f1f1;\n",
              "        }</style><table id=\"T_6e525a4e_5fd1_11eb_bd18_0242ac1c0002\" ><thead>    <tr>        <th class=\"blank level0\" ></th>        <th class=\"col_heading level0 col0\" >sepal length (cm)</th>        <th class=\"col_heading level0 col1\" >sepal width (cm)</th>    </tr></thead><tbody>\n",
              "                <tr>\n",
              "                        <th id=\"T_6e525a4e_5fd1_11eb_bd18_0242ac1c0002level0_row0\" class=\"row_heading level0 row0\" >sepal length (cm)</th>\n",
              "                        <td id=\"T_6e525a4e_5fd1_11eb_bd18_0242ac1c0002row0_col0\" class=\"data row0 col0\" >1.000000</td>\n",
              "                        <td id=\"T_6e525a4e_5fd1_11eb_bd18_0242ac1c0002row0_col1\" class=\"data row0 col1\" >-0.117570</td>\n",
              "            </tr>\n",
              "            <tr>\n",
              "                        <th id=\"T_6e525a4e_5fd1_11eb_bd18_0242ac1c0002level0_row1\" class=\"row_heading level0 row1\" >sepal width (cm)</th>\n",
              "                        <td id=\"T_6e525a4e_5fd1_11eb_bd18_0242ac1c0002row1_col0\" class=\"data row1 col0\" >-0.117570</td>\n",
              "                        <td id=\"T_6e525a4e_5fd1_11eb_bd18_0242ac1c0002row1_col1\" class=\"data row1 col1\" >1.000000</td>\n",
              "            </tr>\n",
              "    </tbody></table>"
            ],
            "text/plain": [
              "<pandas.io.formats.style.Styler at 0x7fde8fe0c978>"
            ]
          },
          "metadata": {
            "tags": []
          },
          "execution_count": 177
        }
      ]
    },
    {
      "cell_type": "code",
      "metadata": {
        "id": "CURwBHR5pTBB"
      },
      "source": [
        "X.drop(['petal length (cm)','petal width (cm)'], axis = 1, inplace = True)"
      ],
      "execution_count": 176,
      "outputs": []
    },
    {
      "cell_type": "code",
      "metadata": {
        "id": "5ww6B2TMDYR4"
      },
      "source": [
        "class KMeansClustering:\n",
        "  def __init__(self, k = 2, tol = 0.00001, max_iter = 300):\n",
        "    self.k = k\n",
        "    self.tol = tol\n",
        "    self.max_iter = max_iter\n",
        "    self.inertia_ = 0\n",
        "  \n",
        "  def fit(self, X):\n",
        "    num_samples, num_features = X.shape\n",
        "    centroids = X.iloc[np.random.choice(num_samples,size = self.k, replace = False),:].to_numpy()\n",
        "    class_labels = np.zeros(num_samples)\n",
        "    #Changing centroids max_iters number of times\n",
        "    for i in range(self.max_iter):\n",
        "      #assignent step\n",
        "      wcss = 0\n",
        "      for i, row in enumerate(X.to_numpy()):\n",
        "        euc_dist = [np.linalg.norm(np.subtract(np.array(row),np.array(center))) for center in centroids]\n",
        "        class_labels[i] = np.argmin(euc_dist)\n",
        "        wcss += (min(euc_dist)**2)\n",
        "      #updation step\n",
        "      new_centroids = [X.iloc[np.where(classes == i)[0].tolist(),:].mean(axis = 0).values for i in range(self.k)]\n",
        "      #if the centroids change less than tolerance, we can stop\n",
        "      if np.linalg.norm(np.subtract(new_centroids,centroids)) > self.tol:\n",
        "        centroids = new_centroids\n",
        "      else:\n",
        "        break\n",
        "    self.inertia_ = wcss\n",
        "    return class_labels\n",
        "\n",
        "  def predict():\n",
        "    pass"
      ],
      "execution_count": 185,
      "outputs": []
    },
    {
      "cell_type": "code",
      "metadata": {
        "id": "MtvhyrDwO0Zz"
      },
      "source": [
        "wcss = []\n",
        "for i in range(2,11):\n",
        "  kmeans = KMeansClustering(k = i)\n",
        "  class_labels = kmeans.fit(X)\n",
        "  wcss.append(kmeans.inertia_)"
      ],
      "execution_count": 200,
      "outputs": []
    },
    {
      "cell_type": "code",
      "metadata": {
        "colab": {
          "base_uri": "https://localhost:8080/",
          "height": 282
        },
        "id": "3d3oe77ZRoBi",
        "outputId": "334424e6-c325-4d61-a887-4d757c091f17"
      },
      "source": [
        "plt.plot(range(2,11),wcss)"
      ],
      "execution_count": 207,
      "outputs": [
        {
          "output_type": "execute_result",
          "data": {
            "text/plain": [
              "[<matplotlib.lines.Line2D at 0x7fde8f725080>]"
            ]
          },
          "metadata": {
            "tags": []
          },
          "execution_count": 207
        },
        {
          "output_type": "display_data",
          "data": {
            "image/png": "[encoded data removed]",
            "text/plain": [
              "<Figure size 432x288 with 1 Axes>"
            ]
          },
          "metadata": {
            "tags": [],
            "needs_background": "light"
          }
        }
      ]
    },
    {
      "cell_type": "code",
      "metadata": {
        "colab": {
          "base_uri": "https://localhost:8080/"
        },
        "id": "bU3IO3S9wYIN",
        "outputId": "311f3b04-bcd0-4793-975c-4eb52b49bb09"
      },
      "source": [
        "class_labels"
      ],
      "execution_count": 216,
      "outputs": [
        {
          "output_type": "execute_result",
          "data": {
            "text/plain": [
              "KMeans(algorithm='auto', copy_x=True, init='k-means++', max_iter=300,\n",
              "       n_clusters=2, n_init=10, n_jobs=None, precompute_distances='auto',\n",
              "       random_state=123, tol=0.0001, verbose=0)"
            ]
          },
          "metadata": {
            "tags": []
          },
          "execution_count": 216
        }
      ]
    },
    {
      "cell_type": "code",
      "metadata": {
        "id": "iRAhzx7iudUe"
      },
      "source": [
        "wcss = []\n",
        "silhouette_scores = []\n",
        "for i in range(2,11):\n",
        "  kmeans = KMeans(n_clusters = i, init = 'k-means++', random_state=123)\n",
        "  class_labels = kmeans.fit_predict(X)\n",
        "  wcss.append(kmeans.inertia_)\n",
        "  score = silhouette_score(X,np.array(class_labels))\n",
        "  silhouette_scores.append(score)"
      ],
      "execution_count": 217,
      "outputs": []
    },
    {
      "cell_type": "code",
      "metadata": {
        "id": "38-CGP3nybrn"
      },
      "source": [
        "kmeans = KMeans(n_clusters = 3, init = 'k-means++', random_state=123)\n",
        "class_labels = kmeans.fit_predict(X)"
      ],
      "execution_count": 231,
      "outputs": []
    },
    {
      "cell_type": "code",
      "metadata": {
        "colab": {
          "base_uri": "https://localhost:8080/",
          "height": 283
        },
        "id": "IeQp1SrJu_LT",
        "outputId": "58b68d4f-4571-424b-ecf6-14d9f8dcf246"
      },
      "source": [
        "fig,ax1 = plt.subplots()\n",
        "ax1.plot(range(2,11),wcss)\n",
        "ax1.set_ylabel(\"wcss\",color = 'blue')\n",
        "ax2 = ax1.twinx()\n",
        "ax2.plot(range(2,11),silhouette_scores, 'r--')\n",
        "ax2.set_ylabel(\"silhouette_scores\", color = 'red')"
      ],
      "execution_count": 228,
      "outputs": [
        {
          "output_type": "execute_result",
          "data": {
            "text/plain": [
              "Text(0, 0.5, 'silhouette_scores')"
            ]
          },
          "metadata": {
            "tags": []
          },
          "execution_count": 228
        },
        {
          "output_type": "display_data",
          "data": {
            "image/png": "[encoded data removed]",
            "text/plain": [
              "<Figure size 432x288 with 2 Axes>"
            ]
          },
          "metadata": {
            "tags": [],
            "needs_background": "light"
          }
        }
      ]
    },
    {
      "cell_type": "code",
      "metadata": {
        "colab": {
          "base_uri": "https://localhost:8080/",
          "height": 336
        },
        "id": "ZmLG3xmCyHiI",
        "outputId": "479d8a6c-82d9-4758-ebee-e7e109707909"
      },
      "source": [
        "sns.countplot(class_labels)"
      ],
      "execution_count": 232,
      "outputs": [
        {
          "output_type": "stream",
          "text": [
            "/usr/local/lib/python3.6/dist-packages/seaborn/_decorators.py:43: FutureWarning: Pass the following variable as a keyword arg: x. From version 0.12, the only valid positional argument will be `data`, and passing other arguments without an explicit keyword will result in an error or misinterpretation.\n",
            "  FutureWarning\n"
          ],
          "name": "stderr"
        },
        {
          "output_type": "execute_result",
          "data": {
            "text/plain": [
              "<matplotlib.axes._subplots.AxesSubplot at 0x7fde817cb1d0>"
            ]
          },
          "metadata": {
            "tags": []
          },
          "execution_count": 232
        },
        {
          "output_type": "display_data",
          "data": {
            "image/png": "[encoded data removed]",
            "text/plain": [
              "<Figure size 432x288 with 1 Axes>"
            ]
          },
          "metadata": {
            "tags": [],
            "needs_background": "light"
          }
        }
      ]
    },
    {
      "cell_type": "code",
      "metadata": {
        "colab": {
          "base_uri": "https://localhost:8080/",
          "height": 296
        },
        "id": "-_PqQxq2yqfG",
        "outputId": "f61ad523-908e-41df-ac51-5c153da271ff"
      },
      "source": [
        "sns.scatterplot(x = X[\"sepal length (cm)\"], y = X[\"sepal width (cm)\"], hue = class_labels, palette = sns.color_palette(\"Set1\",pd.Series(class_labels).nunique()))"
      ],
      "execution_count": 238,
      "outputs": [
        {
          "output_type": "execute_result",
          "data": {
            "text/plain": [
              "<matplotlib.axes._subplots.AxesSubplot at 0x7fde81391668>"
            ]
          },
          "metadata": {
            "tags": []
          },
          "execution_count": 238
        },
        {
          "output_type": "display_data",
          "data": {
            "image/png": "[encoded data removed]",
            "text/plain": [
              "<Figure size 432x288 with 1 Axes>"
            ]
          },
          "metadata": {
            "tags": [],
            "needs_background": "light"
          }
        }
      ]
    },
    {
      "cell_type": "code",
      "metadata": {
        "colab": {
          "base_uri": "https://localhost:8080/"
        },
        "id": "NOiPn5cA0P4G",
        "outputId": "c25e2fd5-7558-4086-947d-88a568a1cbdd"
      },
      "source": [
        "X[\"labels\"] = class_labels\n",
        "X[\"silhouette_scores\"] = silhouette_samples(X,X[[\"labels\"]])"
      ],
      "execution_count": 239,
      "outputs": [
        {
          "output_type": "stream",
          "text": [
            "/usr/local/lib/python3.6/dist-packages/sklearn/utils/validation.py:760: DataConversionWarning: A column-vector y was passed when a 1d array was expected. Please change the shape of y to (n_samples, ), for example using ravel().\n",
            "  y = column_or_1d(y, warn=True)\n"
          ],
          "name": "stderr"
        }
      ]
    },
    {
      "cell_type": "code",
      "metadata": {
        "colab": {
          "base_uri": "https://localhost:8080/"
        },
        "id": "nKX3QD3O0u-m",
        "outputId": "197425ab-8291-4e10-c878-4c716b51fef5"
      },
      "source": [
        "X.groupby([\"labels\"])[\"silhouette_scores\"].mean()"
      ],
      "execution_count": 240,
      "outputs": [
        {
          "output_type": "execute_result",
          "data": {
            "text/plain": [
              "labels\n",
              "0    0.524646\n",
              "1    0.511489\n",
              "2    0.559042\n",
              "Name: silhouette_scores, dtype: float64"
            ]
          },
          "metadata": {
            "tags": []
          },
          "execution_count": 240
        }
      ]
    }
  ]
}