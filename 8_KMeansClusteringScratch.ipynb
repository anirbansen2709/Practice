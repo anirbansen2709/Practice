{
  "nbformat": 4,
  "nbformat_minor": 0,
  "metadata": {
    "colab": {
      "provenance": [],
      "authorship_tag": "ABX9TyOPwVNZIbU+3gXh36hOgD3r",
      "include_colab_link": true
    },
    "kernelspec": {
      "name": "python3",
      "display_name": "Python 3"
    },
    "language_info": {
      "name": "python"
    }
  },
  "cells": [
    {
      "cell_type": "markdown",
      "metadata": {
        "id": "view-in-github",
        "colab_type": "text"
      },
      "source": [
        "<a href=\"https://colab.research.google.com/github/anirbansen2709/Practice/blob/main/8_KMeansClusteringScratch.ipynb\" target=\"_parent\"><img src=\"https://colab.research.google.com/assets/colab-badge.svg\" alt=\"Open In Colab\"/></a>"
      ]
    },
    {
      "cell_type": "code",
      "execution_count": null,
      "metadata": {
        "id": "PGipViMZLodV"
      },
      "outputs": [],
      "source": [
        "from numpy as np\n",
        "\n",
        "class KMeans:\n",
        "  def __init__(self, k = 5, max_iter = 100, tol = 0.0001):\n",
        "    self.k = k\n",
        "    self.max_iter = max_iter\n",
        "    self.tol = tol\n",
        "    # samples for each cluster\n",
        "    self.clusters = [[] for _ in range(self.k)]\n",
        "    # cluster centroids\n",
        "    self.centroids = []\n",
        "    self.labels_ = None\n",
        "\n",
        "  def fit(self, X):\n",
        "    self.X = X\n",
        "    self.n_samples, self.n_features = X.shape\n",
        "    #initiate\n",
        "    random_sample_indexes = np.random.choice(self.n_samples, size = self.k, replace = False)\n",
        "    self.centroids = [self.X[idx] for idx in random_sample_indexes]\n",
        "    #iterate\n",
        "    for _ in range(self.max_iter):\n",
        "      # assign sample to closest cluster\n",
        "      self.clusters = self._create_clusters(self.centroids)\n",
        "      # update\n",
        "      centroids_old = self.centroids\n",
        "      self.centroids = self._get_centroids(self.clusters)\n",
        "      # check for convergence\n",
        "      if self._is_converged(centroids_old, self.centroids):\n",
        "        break\n",
        "      # assign labels\n",
        "      self.labels_ = self._get_cluster_labels(self.clusters)\n",
        "\n",
        "def _get_cluster_labels(self, clusters):\n",
        "  #each sample will get the cluster it was assigned to\n",
        "  labels = np.empty(self.n_samples)\n",
        "  for cluster_idx, cluster in enumerate(clusters):\n",
        "    for sample_idx in cluster:\n",
        "      labels[sample_idx] = cluster_idx\n",
        "  labels\n",
        "\n",
        "def _create_clusters(self, centroids):\n",
        "  # assign the sample to the closest centroid\n",
        "  clusters = [[] for _ in range(self.k)]\n",
        "  for idx, sample in enumerate(self.X):\n",
        "    centroid_idx = self._closest_centroid(sample, centroids)\n",
        "    clusters[centroid_idx].append(idx)\n",
        "  return clusters\n",
        "\n",
        "def _closest_centroid(self, sample, centroids):\n",
        "  # distance of the sample to each centroid\n",
        "  distances = [self._euclidean_distance(sample, point) for point in centroids]\n",
        "  closest_index = np.argmin(distances)\n",
        "  return closest_index\n",
        "\n",
        "def _euclidean_distance(self, x, y):\n",
        "  return np.sqrt(np.sum((x-y) ** 2))\n",
        "\n",
        "def _get_centroids(clusters):\n",
        "  #assign the mean value of the clusters to the centroid\n",
        "  centroids = np.zeros(self.k, self.n_features):\n",
        "  for cluster_idx, cluster in enumerate(clusters):\n",
        "    cluster_mean = np.mean(self.X[cluster], axis = 0)\n",
        "    centroids[cluster_idx] = cluster_mean\n",
        "  return centroids\n",
        "\n",
        "def _is_converged(centroids_old, centroids):\n",
        "  #distances between old centroids and new centroids\n",
        "  distances = [self._euclidean_distance(centroids_old[idx], centroids[idx]) for idx in range(self.K)]\n",
        "  return sum(distances) < self.tol"
      ]
    }
  ]
}