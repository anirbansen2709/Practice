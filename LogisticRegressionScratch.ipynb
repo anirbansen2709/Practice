{
  "nbformat": 4,
  "nbformat_minor": 0,
  "metadata": {
    "colab": {
      "name": "LogisticRegressionScratch.ipynb",
      "provenance": [],
      "collapsed_sections": [],
      "authorship_tag": "ABX9TyNxru01qXthLkLDUmcCjtpr",
      "include_colab_link": true
    },
    "kernelspec": {
      "name": "python3",
      "display_name": "Python 3"
    }
  },
  "cells": [
    {
      "cell_type": "markdown",
      "metadata": {
        "id": "view-in-github",
        "colab_type": "text"
      },
      "source": [
        "<a href=\"https://colab.research.google.com/github/anirbansen3027/Practice/blob/main/LogisticRegressionScratch.ipynb\" target=\"_parent\"><img src=\"https://colab.research.google.com/assets/colab-badge.svg\" alt=\"Open In Colab\"/></a>"
      ]
    },
    {
      "cell_type": "code",
      "metadata": {
        "id": "4CviecufdAgS"
      },
      "source": [
        "import numpy as np"
      ],
      "execution_count": 1,
      "outputs": []
    },
    {
      "cell_type": "code",
      "metadata": {
        "id": "fcmxiD5kg2rO"
      },
      "source": [
        "class LogisticRegressor:\r\n",
        "  def __init__(self, lr = 0.0001, n_iters = 2000):\r\n",
        "    self.lr = lr\r\n",
        "    self.n_iters = n_iters\r\n",
        "    self.weights = None\r\n",
        "    self.bias = None\r\n",
        "\r\n",
        "  def fit(self, X, y):\r\n",
        "    #init_parameters \r\n",
        "    num_samples, num_features = X.shape\r\n",
        "    self.weights = np.random.randn(1,num_features)\r\n",
        "    self.bias = np.random.randn()\r\n",
        "    #training\r\n",
        "    for i in range(self.n_iters):\r\n",
        "      #make prediction\r\n",
        "      z = np.dot(X,self.weights.T) + self.bias\r\n",
        "      prob = self.sigmoid(z)\r\n",
        "      #calculate cost\r\n",
        "      cost = - (1/num_samples) * np.sum(y * np.log(prob) + (1-y) * np.log(1-prob))\r\n",
        "      if i%500==0:\r\n",
        "        print(\"Cost\",i,cost) \r\n",
        "      #Gradients Descent\r\n",
        "      dw = np.dot(X.T, (prob-y)) /num_samples\r\n",
        "      db = np.sum(prob-y) / num_samples\r\n",
        "      self.weights = self.weights - (self.lr * dw).T\r\n",
        "      self.bias = self.bias - (self.lr * db)\r\n",
        "\r\n",
        "  def predict(self, X):\r\n",
        "    z = np.dot(X,self.weights.T) + self.bias\r\n",
        "    prob = self.sigmoid(z)\r\n",
        "    return prob\r\n",
        "    \r\n",
        "\r\n",
        "  def sigmoid(self, z):\r\n",
        "    return 1.0 / (1+np.exp(-z))"
      ],
      "execution_count": 2,
      "outputs": []
    },
    {
      "cell_type": "code",
      "metadata": {
        "id": "7anXmshFkemd"
      },
      "source": [
        "X = np.array([1,2,3,4,5,6,7,8,9,10]).reshape(5,-1)\r\n",
        "y = np.array([0,0,0,1,1]).reshape(5,-1)"
      ],
      "execution_count": 3,
      "outputs": []
    },
    {
      "cell_type": "code",
      "metadata": {
        "id": "Jw3VjSzfkAMN",
        "colab": {
          "base_uri": "https://localhost:8080/"
        },
        "outputId": "495e0f75-f422-403c-bc34-92e5c2085f68"
      },
      "source": [
        "clf = LogisticRegressor()\r\n",
        "clf.fit(X,y)"
      ],
      "execution_count": 4,
      "outputs": [
        {
          "output_type": "stream",
          "text": [
            "Cost 0 2.482080147630357\n",
            "Cost 500 1.6126018071903852\n",
            "Cost 1000 1.0945629288436551\n",
            "Cost 1500 0.9426540532633361\n"
          ],
          "name": "stdout"
        }
      ]
    },
    {
      "cell_type": "code",
      "metadata": {
        "colab": {
          "base_uri": "https://localhost:8080/"
        },
        "id": "6WX3OyqeNbfw",
        "outputId": "77566b65-7033-44c5-dcbc-44a0122fd7ab"
      },
      "source": [
        "X_test = np.array([10,2,3,41]).reshape(2,-1)\r\n",
        "X.shape"
      ],
      "execution_count": 5,
      "outputs": [
        {
          "output_type": "execute_result",
          "data": {
            "text/plain": [
              "(5, 2)"
            ]
          },
          "metadata": {
            "tags": []
          },
          "execution_count": 5
        }
      ]
    },
    {
      "cell_type": "code",
      "metadata": {
        "colab": {
          "base_uri": "https://localhost:8080/"
        },
        "id": "Mr1baCzsNGlS",
        "outputId": "4da7d8e1-bd80-4ea7-9a78-1891c7c0b526"
      },
      "source": [
        "clf.predict(X_test)"
      ],
      "execution_count": 6,
      "outputs": [
        {
          "output_type": "execute_result",
          "data": {
            "text/plain": [
              "array([[9.38605624e-01],\n",
              "       [1.34350112e-05]])"
            ]
          },
          "metadata": {
            "tags": []
          },
          "execution_count": 6
        }
      ]
    }
  ]
}