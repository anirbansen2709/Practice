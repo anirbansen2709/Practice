{
  "nbformat": 4,
  "nbformat_minor": 0,
  "metadata": {
    "colab": {
      "name": "MultipleLinearRegression.ipynb",
      "provenance": [],
      "collapsed_sections": [],
      "authorship_tag": "ABX9TyMfT+uocjjlDsdIF9AFMlGA",
      "include_colab_link": true
    },
    "kernelspec": {
      "name": "python3",
      "display_name": "Python 3"
    }
  },
  "cells": [
    {
      "cell_type": "markdown",
      "metadata": {
        "id": "view-in-github",
        "colab_type": "text"
      },
      "source": [
        "<a href=\"https://colab.research.google.com/github/anirbansen3027/Practice/blob/main/MultipleLinearRegression.ipynb\" target=\"_parent\"><img src=\"https://colab.research.google.com/assets/colab-badge.svg\" alt=\"Open In Colab\"/></a>"
      ]
    },
    {
      "cell_type": "code",
      "metadata": {
        "id": "oVG3kPAY-EDa"
      },
      "source": [
        "#Pseudo Code\r\n",
        "#Input Data :  X (n*m) and y(1*m) where m = number of rows and n = number of features\r\n",
        "#-----Step 1: Initialize W (weights) and b(biases) with either 0s or random values \r\n",
        "# W(1*n) and b = single value\r\n",
        "#-----Step 2: Calculate y_hat/ forward propogate\r\n",
        "#y_hat = (W * X) + b |  (1*n) * (n*m) -> 1*m\r\n",
        "#----Step 3: Calculate Loss function\r\n",
        "#J = (1/(2*m)) * sum((y_hat - y)^2) | dim (1)\r\n",
        "#----Step 4: Calculate gradients/ backward propogate\r\n",
        "#db = sum ((1/m) * (y_hat - y)) | dim(1)\r\n",
        "#dw = (1/m) * (y_hat - y) * transpose(X) | (1*m) * (m*n) -> 1*n  \r\n",
        "#----Step 5: Update weights and biases\r\n",
        "# W = W - lr * dw\r\n",
        "# b = b - lr * db\r\n",
        "#----Step 6: Run the linear regression model\r\n",
        "# set X_train, y_train, X_val, y_val, lr, epochs\r\n",
        "# initialize w&b\r\n",
        "# for number of epochs -> forward prop, calculate loss, calculate gradients, update weights and biases "
      ],
      "execution_count": null,
      "outputs": []
    },
    {
      "cell_type": "code",
      "metadata": {
        "id": "Fnxz6Um3QJH1"
      },
      "source": [
        "import numpy as np"
      ],
      "execution_count": null,
      "outputs": []
    },
    {
      "cell_type": "code",
      "metadata": {
        "id": "WhSnZfLsRQwy"
      },
      "source": [
        "def initiate_weight_and_biases(num_features):\r\n",
        "  #A(d0, d1, ..., dn)-shaped array of floating-point samples from the standard normal distribution\r\n",
        "  W = np.random.randn(1,num_features)\r\n",
        "  b = np.random.randn()\r\n",
        "  return W, b"
      ],
      "execution_count": null,
      "outputs": []
    },
    {
      "cell_type": "code",
      "metadata": {
        "id": "JWUkmfACTcPO"
      },
      "source": [
        "def forward_prop(X,W,b):\r\n",
        "  y_hat = np.dot(X,W) + b\r\n",
        "  return y_hat"
      ],
      "execution_count": null,
      "outputs": []
    },
    {
      "cell_type": "code",
      "metadata": {
        "id": "N1-Cma0pUwYD"
      },
      "source": [
        "def compute_cost_function(num_samples, y_hat, y):\r\n",
        "  J = (1/(2 * num_samples)) * np.sum(np.square(y_hat - y))\r\n",
        "  return J"
      ],
      "execution_count": null,
      "outputs": []
    },
    {
      "cell_type": "code",
      "metadata": {
        "id": "Ew-6M1qPXsOW"
      },
      "source": [
        "def compute_gradients(num_samples, y_hat, y, X):\r\n",
        "  db = np.sum(y_hat - y)/num_samples\r\n",
        "  dw = np.dot(np.transpose(y_hat - y), X)/num_samples\r\n",
        "  return db, dw"
      ],
      "execution_count": null,
      "outputs": []
    },
    {
      "cell_type": "code",
      "metadata": {
        "id": "YoUtk3bMak-n"
      },
      "source": [
        "def back_prop(W,b,lr,dw,db):\r\n",
        "  W = W - (lr*dw)\r\n",
        "  b = b - (lr*db)\r\n",
        "  return W,b"
      ],
      "execution_count": null,
      "outputs": []
    },
    {
      "cell_type": "code",
      "metadata": {
        "id": "4cPqYRmTbMpa"
      },
      "source": [
        "def linear_regression(X_train,y_train,lr, epochs):\r\n",
        "  W, b = initiate_weight_and_biases(1)\r\n",
        "  for _ in range(epochs):\r\n",
        "    y_hat = forward_prop(X,W,b)\r\n",
        "    J = compute_cost_function(2,y_hat,y)\r\n",
        "    db,dw = compute_gradients(2, y_hat, y, X)\r\n",
        "    W, b = back_prop(W,b,lr,dw,db)\r\n",
        "  return W,b"
      ],
      "execution_count": null,
      "outputs": []
    },
    {
      "cell_type": "code",
      "metadata": {
        "id": "sfInSJFOTNMj"
      },
      "source": [
        "X = np.array([1,2,3]).reshape(3,-1)\r\n",
        "y = np.array([10,20, 30]).reshape(3,-1)\r\n",
        "lr = 0.05\r\n",
        "epochs = 1000\r\n",
        "W, b = linear_regression(X,y,lr, epochs)"
      ],
      "execution_count": null,
      "outputs": []
    },
    {
      "cell_type": "code",
      "metadata": {
        "colab": {
          "base_uri": "https://localhost:8080/",
          "height": 282
        },
        "id": "yRPSZOBzi0ms",
        "outputId": "f2e590e2-9c13-4007-a861-24cfa10222a6"
      },
      "source": [
        "import matplotlib.pyplot as plt\r\n",
        "plt.scatter(X,y)\r\n",
        "plt.plot(X, X*W + b, 'r')"
      ],
      "execution_count": null,
      "outputs": [
        {
          "output_type": "execute_result",
          "data": {
            "text/plain": [
              "[<matplotlib.lines.Line2D at 0x7f0822e72390>]"
            ]
          },
          "metadata": {
            "tags": []
          },
          "execution_count": 20
        },
        {
          "output_type": "display_data",
          "data": {
            "image/png": "[encoded data removed]",
            "text/plain": [
              "<Figure size 432x288 with 1 Axes>"
            ]
          },
          "metadata": {
            "tags": [],
            "needs_background": "light"
          }
        }
      ]
    }
  ]
}
