{
  "nbformat": 4,
  "nbformat_minor": 0,
  "metadata": {
    "colab": {
      "name": "Numpy.ipynb",
      "provenance": [],
      "collapsed_sections": [],
      "authorship_tag": "ABX9TyPEHn2L3J1FvD6xi5jMzkwI",
      "include_colab_link": true
    },
    "kernelspec": {
      "name": "python3",
      "display_name": "Python 3"
    }
  },
  "cells": [
    {
      "cell_type": "markdown",
      "metadata": {
        "id": "view-in-github",
        "colab_type": "text"
      },
      "source": [
        "<a href=\"https://colab.research.google.com/github/anirbansen3027/Practice/blob/main/Numpy.ipynb\" target=\"_parent\"><img src=\"https://colab.research.google.com/assets/colab-badge.svg\" alt=\"Open In Colab\"/></a>"
      ]
    },
    {
      "cell_type": "code",
      "metadata": {
        "id": "b4tsOJrIy0D7"
      },
      "source": [
        "import numpy as np"
      ],
      "execution_count": null,
      "outputs": []
    },
    {
      "cell_type": "code",
      "metadata": {
        "colab": {
          "base_uri": "https://localhost:8080/"
        },
        "id": "Az4LPhfCydnv",
        "outputId": "1384553f-96aa-4c34-9550-c2eec1a6ed01"
      },
      "source": [
        "a = np.array([[1,2,3],[4,5,6]])\n",
        "a"
      ],
      "execution_count": null,
      "outputs": [
        {
          "output_type": "execute_result",
          "data": {
            "text/plain": [
              "array([[1, 2, 3],\n",
              "       [4, 5, 6]])"
            ]
          },
          "metadata": {
            "tags": []
          },
          "execution_count": 24
        }
      ]
    },
    {
      "cell_type": "code",
      "metadata": {
        "colab": {
          "base_uri": "https://localhost:8080/"
        },
        "id": "bPdFKFA_y43N",
        "outputId": "a8bff2ab-6802-40b2-956a-ae8e738160f0"
      },
      "source": [
        "#attributes\n",
        "print(\"a-ndim\",a.ndim)\n",
        "print(\"a-shape\", a.shape)\n",
        "print(\"a-size\", a.size)\n",
        "print(\"a-dtype\", a.dtype)\n",
        "print(\"a-itemsize\", a.itemsize)"
      ],
      "execution_count": null,
      "outputs": [
        {
          "output_type": "stream",
          "text": [
            "a-ndim 2\n",
            "a-shape (2, 3)\n",
            "a-size 6\n",
            "a-dtype int64\n",
            "a-itemsize 8\n"
          ],
          "name": "stdout"
        }
      ]
    },
    {
      "cell_type": "code",
      "metadata": {
        "colab": {
          "base_uri": "https://localhost:8080/"
        },
        "id": "qUjeMDV4zki_",
        "outputId": "4ef0a6a4-6011-4017-aad8-6f79dd212289"
      },
      "source": [
        "#creation\n",
        "print(\"zeros:\", np.zeros((2,3)))\n",
        "print(\"ones:\", np.ones((2,3)))\n",
        "print(\"np.full((2,2),9):\", np.full((2,3),9))\n",
        "print(\"empty:\", np.empty((2,3)))\n",
        "print(\"random decimals\", np.random.rand(2,2))\n",
        "print(\"random numbers\", np.random.randint(1,10, size = (2,2)))\n",
        "print(\"arange:\", np.arange(2,10,2))\n",
        "print(\"arange float:\", np.arange(2,3,0.2))\n",
        "print(\"linspace float:\", np.linspace(2,3,5))"
      ],
      "execution_count": null,
      "outputs": [
        {
          "output_type": "stream",
          "text": [
            "zeros: [[0. 0. 0.]\n",
            " [0. 0. 0.]]\n",
            "ones: [[1. 1. 1.]\n",
            " [1. 1. 1.]]\n",
            "np.full((2,2),9): [[9 9 9]\n",
            " [9 9 9]]\n",
            "empty: [[4.4e-323 4.4e-323 4.4e-323]\n",
            " [4.4e-323 4.4e-323 4.4e-323]]\n",
            "random decimals [[0.61878281 0.02316479]\n",
            " [0.82278766 0.84033912]]\n",
            "random numbers [[8 1]\n",
            " [7 4]]\n",
            "arange: [2 4 6 8]\n",
            "arange float: [2.  2.2 2.4 2.6 2.8]\n",
            "linspace float: [2.   2.25 2.5  2.75 3.  ]\n"
          ],
          "name": "stdout"
        }
      ]
    },
    {
      "cell_type": "code",
      "metadata": {
        "colab": {
          "base_uri": "https://localhost:8080/"
        },
        "id": "WFsZVQdnlYYU",
        "outputId": "1a6aa324-faa3-46e2-b940-3cefd0032d42"
      },
      "source": [
        "#basic operations\n",
        "o = np.array([True,False])\n",
        "m = np.array([np.nan,np.inf, -np.inf])\n",
        "#Not a Number (NaN), positive infinity and negative infinity evaluate to True because these are not equal to zero.\n",
        "print(\"All True:\",np.all(o))\n",
        "print(\"All True-2:\",np.all(m))\n",
        "print(\"Any:\", np.any(o))\n",
        "n = np.array([[0,2,3,4],[5,6,10,0]])\n",
        "print(\"Argmin Argmax\", np.argmin(n,axis = 1), np.argmax(n,axis = 1))\n",
        "print(\"Indexes to be kept for sorted\", np.argsort(n))\n",
        "#Count number of occurrences of each integer in array of non-negative values\n",
        "print(\"Bincount\",np.bincount(n.ravel()))\n",
        "p = np.array([0.1,0.9,1.1,1.9])\n",
        "print(\"Ceil and floor\",np.ceil(p), np.floor(p))\n",
        "print(\"Clip\",np.clip(p,0.5,1.5))\n",
        "print(\"Element wise diff\", np.diff(p))\n",
        "print(\"Np where\", np.where(p<1,p,-1))\n",
        "#Sort a structured array\n",
        "dtype = [('name', 'S10'), ('height', float), ('age', int)]\n",
        "values = [('Arthur', 1.8, 41), ('Lancelot', 1.9, 38),\n",
        "          ('Galahad', 1.7, 38)]\n",
        "a = np.array(values, dtype=dtype)\n",
        "print(\"sort\", np.sort(a, order = 'name'))"
      ],
      "execution_count": null,
      "outputs": [
        {
          "output_type": "stream",
          "text": [
            "All True: False\n",
            "All True-2: True\n",
            "Any: True\n",
            "Argmin Argmax [0 3] [3 2]\n",
            "Indexes to be kept for sorted [[0 1 2 3]\n",
            " [3 0 1 2]]\n",
            "Bincount [2 0 1 1 1 1 1 0 0 0 1]\n",
            "Ceil and floor [1. 1. 2. 2.] [0. 0. 1. 1.]\n",
            "Clip [0.5 0.9 1.1 1.5]\n",
            "Element wise diff [0.8 0.2 0.8]\n",
            "Np where [ 0.1  0.9 -1.  -1. ]\n",
            "sort [(b'Arthur', 1.8, 41) (b'Galahad', 1.7, 38) (b'Lancelot', 1.9, 38)]\n"
          ],
          "name": "stdout"
        }
      ]
    },
    {
      "cell_type": "code",
      "metadata": {
        "colab": {
          "base_uri": "https://localhost:8080/"
        },
        "id": "kAZqLgmQ2PZG",
        "outputId": "68017c05-81de-485f-e05e-ee54c3de736b"
      },
      "source": [
        "#arithmetic operations\n",
        "a = np.array([1,2,3])\n",
        "b = np.array([4,5,2])\n",
        "print(\"a+b\",a+b)\n",
        "print(\"a**2\",a**2)\n",
        "print(\"a*b\",a*b)\n",
        "print(\"a@b\",a@b)\n",
        "print(\"a.dot(b)\",a.dot(b))\n",
        "a+=b\n",
        "print(\"a+=b\",a)\n",
        "c = np.array([[1,2,3],[4,5,6]])\n",
        "print(\"Total Sum\",c.sum()) # same for min, max, prod\n",
        "print(\"Row wise Sum\", c.sum(axis = 0))\n",
        "print(\"Column wise Sum\", c.sum(axis = 1))\n",
        "print(\"Column wise cumsum\\n\", c.cumsum(axis = 1))\n",
        "print(\"exponentiate\",np.exp(b))\n",
        "print(\"square root\",np.sqrt(b))\n",
        "s = np.array([1,2,3,np.nan,np.nan])\n",
        "print(\"Numpy min function\",np.min(s))\n",
        "print(\"Numpy nanmin function\", np.nanmin(s))\n",
        "print(\"Range\", np.ptp(c,axis = 0))\n",
        "print(\"percentile\", np.percentile(b,50))\n",
        "print(\"Correlation\", np.corrcoef(a,b))\n",
        "print(\"Covariance\", np.cov(a,b))\n",
        "print(\"Intersection\", np.intersect1d(a,b))\n",
        "print(\"Union\", np.union1d(a,b))\n",
        "print(\"Setdiff\", np.setdiff1d(a,b))\n",
        "print(\"SetXor\", np.setxor1d(a,b))"
      ],
      "execution_count": null,
      "outputs": [
        {
          "output_type": "stream",
          "text": [
            "a+b [5 7 5]\n",
            "a**2 [1 4 9]\n",
            "a*b [ 4 10  6]\n",
            "a@b 20\n",
            "a.dot(b) 20\n",
            "a+=b [5 7 5]\n",
            "Total Sum 21\n",
            "Row wise Sum [5 7 9]\n",
            "Column wise Sum [ 6 15]\n",
            "Column wise cumsum\n",
            " [[ 1  3  6]\n",
            " [ 4  9 15]]\n",
            "exponentiate [ 54.59815003 148.4131591    7.3890561 ]\n",
            "square root [2.         2.23606798 1.41421356]\n",
            "Numpy min function nan\n",
            "Numpy nanmin function 1.0\n",
            "Range [3 3 3]\n",
            "percentile 4.0\n",
            "Correlation [[1.         0.75592895]\n",
            " [0.75592895 1.        ]]\n",
            "Covariance [[1.33333333 1.33333333]\n",
            " [1.33333333 2.33333333]]\n",
            "Intersection [5]\n",
            "Union [2 4 5 7]\n",
            "Setdiff [7]\n",
            "SetXor [2 4 7]\n"
          ],
          "name": "stdout"
        }
      ]
    },
    {
      "cell_type": "code",
      "metadata": {
        "colab": {
          "base_uri": "https://localhost:8080/"
        },
        "id": "fPBbuofo3Uot",
        "outputId": "e04552d6-55ed-4264-87c1-106e34950ed0"
      },
      "source": [
        "#shape manipulation\n",
        "x = np.array([[1,2,3],[4,5,6]])\n",
        "y = np.array([[7,8,9],[10,11,12]])\n",
        "print(\"ravel\", x.ravel())\n",
        "print(\"reshape\", x.reshape(3,2))   #reshape() does not change your data (returns a view), but resize() does (returns a copy)\n",
        "print(\"resize\", np.resize(x,(3,3))) #repeated if necessary to fill out the required number of elements.\n",
        "print(\"transpose\", x.T)"
      ],
      "execution_count": null,
      "outputs": [
        {
          "output_type": "stream",
          "text": [
            "ravel [1 2 3 4 5 6]\n",
            "reshape [[1 2]\n",
            " [3 4]\n",
            " [5 6]]\n",
            "resize [[1 2 3]\n",
            " [4 5 6]\n",
            " [1 2 3]]\n",
            "transpose [[1 4]\n",
            " [2 5]\n",
            " [3 6]]\n"
          ],
          "name": "stdout"
        }
      ]
    },
    {
      "cell_type": "code",
      "metadata": {
        "colab": {
          "base_uri": "https://localhost:8080/"
        },
        "id": "arWy6vX5HzZO",
        "outputId": "861085d1-75f3-4d23-942a-d412b414837f"
      },
      "source": [
        "#stacking/splitting\n",
        "print(\"hstack\\n\", np.hstack((x,y)))\n",
        "print(\"vstack\\n\", np.vstack((x,y)))\n",
        "print(\"vsplit\\n\", np.vsplit(x,2))\n",
        "print(\"hsplit\\n\", np.hsplit(x,[1]))"
      ],
      "execution_count": null,
      "outputs": [
        {
          "output_type": "stream",
          "text": [
            "hstack\n",
            " [[ 1  2  3  7  8  9]\n",
            " [ 4  5  6 10 11 12]]\n",
            "vstack\n",
            " [[ 1  2  3]\n",
            " [ 4  5  6]\n",
            " [ 7  8  9]\n",
            " [10 11 12]]\n",
            "vsplit\n",
            " [array([[1, 2, 3]]), array([[4, 5, 6]])]\n",
            "hsplit\n",
            " [array([[1],\n",
            "       [4]]), array([[2, 3],\n",
            "       [5, 6]])]\n"
          ],
          "name": "stdout"
        }
      ]
    },
    {
      "cell_type": "code",
      "metadata": {
        "colab": {
          "base_uri": "https://localhost:8080/"
        },
        "id": "cAZaOdUfLAJB",
        "outputId": "6e09581a-68d4-4eff-83f0-aacdf841345c"
      },
      "source": [
        "#copy/views\n",
        "a = np.array([1,2,3])\n",
        "b = a.view()\n",
        "c = c.copy()\n",
        "b.reshape(3,1)\n",
        "print(a.shape)\n",
        "b[0]=99\n",
        "print(a)\n",
        "c[1] = 100\n",
        "print(a)"
      ],
      "execution_count": null,
      "outputs": [
        {
          "output_type": "stream",
          "text": [
            "(3,)\n",
            "[99  2  3]\n",
            "[99  2  3]\n"
          ],
          "name": "stdout"
        }
      ]
    },
    {
      "cell_type": "code",
      "metadata": {
        "colab": {
          "base_uri": "https://localhost:8080/"
        },
        "id": "lVLiR6MELgye",
        "outputId": "37ec47aa-3546-4f16-b352-6aa7f93c8ee9"
      },
      "source": [
        "#linear algebra\n",
        "print(\"Inverse of a matrix\", np.linalg.inv(np.array([[1,2],[3,4]])))\n",
        "print(np.eye(2))\n",
        "print(np.linalg.eig(np.array([[1,2],[3,4]])))\n",
        "a=np.array([9,10])\n",
        "b = np.array([1,2])\n",
        "print(np.cross(a,b))"
      ],
      "execution_count": null,
      "outputs": [
        {
          "output_type": "stream",
          "text": [
            "Inverse of a matrix [[-2.   1. ]\n",
            " [ 1.5 -0.5]]\n",
            "[[1. 0.]\n",
            " [0. 1.]]\n",
            "(array([-0.37228132,  5.37228132]), array([[-0.82456484, -0.41597356],\n",
            "       [ 0.56576746, -0.90937671]]))\n",
            "8\n"
          ],
          "name": "stdout"
        }
      ]
    },
    {
      "cell_type": "code",
      "metadata": {
        "colab": {
          "base_uri": "https://localhost:8080/"
        },
        "id": "GK5yfVCQLglQ",
        "outputId": "eadc55ec-c9e3-4e1c-a7ff-a186ad579503"
      },
      "source": [
        "z = np.array([0,1,1,0])\n",
        "print(\"std, var\", np.std(z), np.var(z))"
      ],
      "execution_count": null,
      "outputs": [
        {
          "output_type": "stream",
          "text": [
            "std, var 0.5 0.25\n"
          ],
          "name": "stdout"
        }
      ]
    }
  ]
}
