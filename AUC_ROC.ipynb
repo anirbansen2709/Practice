{
  "nbformat": 4,
  "nbformat_minor": 0,
  "metadata": {
    "colab": {
      "provenance": [],
      "authorship_tag": "ABX9TyPgVjoXd20vNy9oj0d4yVi2",
      "include_colab_link": true
    },
    "kernelspec": {
      "name": "python3",
      "display_name": "Python 3"
    },
    "language_info": {
      "name": "python"
    }
  },
  "cells": [
    {
      "cell_type": "markdown",
      "metadata": {
        "id": "view-in-github",
        "colab_type": "text"
      },
      "source": [
        "<a href=\"https://colab.research.google.com/github/anirbansen2709/Practice/blob/main/AUC_ROC.ipynb\" target=\"_parent\"><img src=\"https://colab.research.google.com/assets/colab-badge.svg\" alt=\"Open In Colab\"/></a>"
      ]
    },
    {
      "cell_type": "code",
      "execution_count": 5,
      "metadata": {
        "id": "dgZPYKyQ1dDg"
      },
      "outputs": [],
      "source": [
        "def auc_roc(true_labels, predictions):\n",
        "  data = list(zip(predictions, true_labels))\n",
        "  data.sort()\n",
        "  # tpr = tp / tp + fn (tp / actual_positives)\n",
        "  # fpr = fp / fp + tn (fp / actual_negatives)\n",
        "  actual_positives = sum([1 for _, y in data if y == 1])\n",
        "  actual_negatives = sum([1 for _, y in data if y == 0])\n",
        "  tp, fp = 0, 0\n",
        "  prev_fpr, prev_tpr = None, None\n",
        "  area = 0\n",
        "  # calculate tpr and fpr taking each probability from end as the threshold\n",
        "  for idx in range(len(data) - 1, -1, -1):\n",
        "    if data[idx][1] == 1:\n",
        "      tp += 1\n",
        "    else:\n",
        "      fp += 1\n",
        "    tpr = tp / actual_positives if actual_positives > 0 else 0\n",
        "    fpr = fp / actual_negatives if actual_negatives > 0 else 0\n",
        "    # trapezoid formula: 0.5*width*(height1+height2)\n",
        "    # width is the difference is FPR between 2 consecutive thresholds\n",
        "    # height1 is the TPR at threshold T(i) and height2 is TPR at threshold T(i+1)\n",
        "    if prev_fpr is not None and prev_tpr is not None:\n",
        "      area += 0.5 * (fpr - prev_fpr) * (prev_tpr + tpr)\n",
        "    prev_fpr = fpr\n",
        "    prev_tpr = tpr\n",
        "  return area"
      ]
    },
    {
      "cell_type": "code",
      "source": [
        "auc_roc([1, 0, 1, 0, 1], [0.1, 0.1, 0.8, 0.1, 0.7])"
      ],
      "metadata": {
        "colab": {
          "base_uri": "https://localhost:8080/"
        },
        "id": "r7zjWmE6CN-R",
        "outputId": "c135a7fb-0946-485a-b2b1-e27958ef08b1"
      },
      "execution_count": 7,
      "outputs": [
        {
          "output_type": "execute_result",
          "data": {
            "text/plain": [
              "1.0"
            ]
          },
          "metadata": {},
          "execution_count": 7
        }
      ]
    },
    {
      "cell_type": "code",
      "source": [],
      "metadata": {
        "id": "7PKvIcCbCej5"
      },
      "execution_count": null,
      "outputs": []
    }
  ]
}