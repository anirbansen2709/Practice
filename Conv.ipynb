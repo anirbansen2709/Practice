{
  "nbformat": 4,
  "nbformat_minor": 0,
  "metadata": {
    "colab": {
      "provenance": [],
      "authorship_tag": "ABX9TyOlhBq/Em1DW4l/QG0Jpy/J",
      "include_colab_link": true
    },
    "kernelspec": {
      "name": "python3",
      "display_name": "Python 3"
    },
    "language_info": {
      "name": "python"
    }
  },
  "cells": [
    {
      "cell_type": "markdown",
      "metadata": {
        "id": "view-in-github",
        "colab_type": "text"
      },
      "source": [
        "<a href=\"https://colab.research.google.com/github/anirbansen2709/Practice/blob/main/Conv.ipynb\" target=\"_parent\"><img src=\"https://colab.research.google.com/assets/colab-badge.svg\" alt=\"Open In Colab\"/></a>"
      ]
    },
    {
      "cell_type": "code",
      "execution_count": 9,
      "metadata": {
        "id": "UAsjjjlseRsV",
        "colab": {
          "base_uri": "https://localhost:8080/"
        },
        "outputId": "bdaa7765-d3db-41cc-a6b0-d3e5bafee8c0"
      },
      "outputs": [
        {
          "output_type": "stream",
          "name": "stdout",
          "text": [
            "[-2, -2, -2, -2, -2, 5]\n"
          ]
        }
      ],
      "source": [
        "#Conv1D\n",
        "def convolve(input, kernel, padding, strides):\n",
        "  output = []\n",
        "  kernel_size = len(kernel) # 3\n",
        "  padding_size = 0\n",
        "  if padding == \"same\":\n",
        "    # from output formula\n",
        "    padding_size = ((len(input) - 1) * strides + len(kernel) - len(input)) // 2\n",
        "  padded_signal = [0] * padding_size + input + [0] * padding_size\n",
        "  # [0, 1, 2, 3, 4, 5, 6, 0]\n",
        "  # 1, 7\n",
        "  # idx points at the end of the window\n",
        "  for window_end in range(padding_size, len(input) + padding_size, strides):\n",
        "    sum = 0\n",
        "    # 0 2\n",
        "    for cur in range(kernel_size):\n",
        "      # 0, 0 1, 1 2, 2.  0, 1 1, 2 2, 3\n",
        "      sum += kernel[cur] * padded_signal[window_end - padding_size + cur]\n",
        "    output.append(sum)\n",
        "  return output\n",
        "\n",
        "input = [1, 2, 3, 4, 5, 6]\n",
        "kernel = [1, 0, -1]\n",
        "padding = \"same\"\n",
        "strides = 1\n",
        "output = convolve(input, kernel, padding, strides)\n",
        "print(output)"
      ]
    }
  ]
}