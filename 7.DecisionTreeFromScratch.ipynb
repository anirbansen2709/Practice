{
  "nbformat": 4,
  "nbformat_minor": 0,
  "metadata": {
    "colab": {
      "name": "DecisionTreeFromScratch.ipynb",
      "provenance": [],
      "collapsed_sections": [],
      "authorship_tag": "ABX9TyOefB+S8Vpmkp4JLqkdYNxf",
      "include_colab_link": true
    },
    "kernelspec": {
      "name": "python3",
      "display_name": "Python 3"
    },
    "language_info": {
      "name": "python"
    }
  },
  "cells": [
    {
      "cell_type": "markdown",
      "metadata": {
        "id": "view-in-github",
        "colab_type": "text"
      },
      "source": [
        "<a href=\"https://colab.research.google.com/github/anirbansen3027/Practice/blob/main/DecisionTreeFromScratch.ipynb\" target=\"_parent\"><img src=\"https://colab.research.google.com/assets/colab-badge.svg\" alt=\"Open In Colab\"/></a>"
      ]
    },
    {
      "cell_type": "code",
      "metadata": {
        "id": "fXUhNIZ5oUj0"
      },
      "source": [
        "import numpy as np\n",
        "from collections import Counter"
      ],
      "execution_count": 52,
      "outputs": []
    },
    {
      "cell_type": "code",
      "metadata": {
        "id": "-at3NynHLQv2"
      },
      "source": [
        "def entropy(y):\n",
        "  hist = np.bincount(y)\n",
        "  hist = hist / len(y)\n",
        "  return -np.sum([p*np.log2(p) for p in hist if p > 0])\n",
        "\n",
        "class Node:\n",
        "  def __init__(self, feature = None, threshold = None, left = None, right = None, *, value = None):\n",
        "    self.feature = feature\n",
        "    self.threshold = threshold\n",
        "    self.left = left\n",
        "    self.right = right\n",
        "    self.value = value\n",
        "  \n",
        "  def is_leaf_node(self):\n",
        "    return self.value is not None\n",
        "\n",
        "class DecisionTree:\n",
        "  def __init__(self, min_samples_split = 5,  max_depth = 50, n_feats = None):\n",
        "    self.min_samples_split = min_samples_split\n",
        "    self.max_depth = max_depth\n",
        "    self.n_feats = n_feats\n",
        "    self.root = None\n",
        "  \n",
        "  def _most_common_label(self, y):\n",
        "    counter = Counter(y)\n",
        "    return counter.most_common(1)[0][0]\n",
        "\n",
        "  def _information_gain(self, y, X_column, thres):\n",
        "    parent_entropy = entropy(y)\n",
        "    left_idx, right_idx = self._split(X_column, thres)\n",
        "    if len(left_idx) == 0 or len(right_idx) == 0:\n",
        "      return 0\n",
        "    n = len(y)\n",
        "    n_l = len(left_idx)\n",
        "    n_r = len(right_idx)\n",
        "    e_l, e_r = entropy(y[left_idx]), entropy(y[right_idx])\n",
        "    child_entropy = ((n_l/n) * (e_l)) + ((n_r/n) * (e_r))\n",
        "    return parent_entropy - child_entropy\n",
        "\n",
        "  def _split(self, X_column, thres):\n",
        "    left_idx = np.argwhere(X_column <= thres).flatten()\n",
        "    right_idx = np.argwhere(X_column > thres).flatten()\n",
        "    return left_idx, right_idx\n",
        "\n",
        "  def _best_criteria(self, X, y, feat_idx):\n",
        "    best_gain = -1,\n",
        "    split_idx, split_thres = None, None\n",
        "    for feat_id in feat_idx:\n",
        "      X_column = X[:, feat_id]\n",
        "      thres_vals = np.unique(X_column)\n",
        "      for thres in thres_vals:\n",
        "        gain = self._information_gain(y, X_column, thres)\n",
        "        if gain > best_gain:\n",
        "          best_gain = gain\n",
        "          split_idx = feat_id\n",
        "          split_thres = thres\n",
        "    \n",
        "    return split_idx, split_thres\n",
        "\n",
        "  def _grow_tree(self, X, y, depth = 0):\n",
        "    n_samples, n_features = X.shape\n",
        "    n_labels = len(np.unique(y))\n",
        "    \n",
        "    #stopping criteria\n",
        "    if depth >= self.max_depth or n_labels == 1 or n_samples <= self.min_samples_split:\n",
        "      leaf_value = self._most_common_label(y)\n",
        "      return Node(value = leaf_value)\n",
        "\n",
        "    feat_idx = np.random.choice(n_features, self.n_feats, replace = False)\n",
        "    \n",
        "    best_feat, best_thres = self._best_criteria(X, y, feat_idx)\n",
        "    left_idx, right_idx = self._split(X[:, best_feat], best_thres)\n",
        "    left = self._grow_tree(X[left_idx,:], y[left_idx], depth+1)\n",
        "    right = self._grow_tree(X[right_idx,:], y[right_idx], depth+1)\n",
        "    return Node(best_feat, best_thres, left, right)\n",
        "\n",
        "  def fit(self, X, y):\n",
        "    self.n_feats = X.shape[1] if not self.n_feats else min(X.shape[1], self.n_feats)\n",
        "    self.root = self._grow_tree(X,y)\n",
        "\n",
        "  def predict(self, X):\n",
        "    return np.array([self._traverse_tree(x, self.root) for x in X])\n",
        "\n",
        "  def _traverse_tree(self, x, node):\n",
        "    if node.is_leaf_node():\n",
        "      return node.value\n",
        "    if x[node.feature] <= node.threshold:\n",
        "      return self._traverse_tree(x, node.left)\n",
        "    return self._traverse_tree(x, node.right)"
      ],
      "execution_count": 53,
      "outputs": []
    },
    {
      "cell_type": "code",
      "metadata": {
        "colab": {
          "base_uri": "https://localhost:8080/"
        },
        "id": "miL4t6jOosTs",
        "outputId": "82d0d807-d18b-4d4e-b834-d4abee7a430e"
      },
      "source": [
        "from sklearn.datasets import make_classification\n",
        "from sklearn.model_selection import train_test_split\n",
        "from sklearn.metrics import classification_report\n",
        "\n",
        "X, y = make_classification()\n",
        "X.shape,  y.shape"
      ],
      "execution_count": 54,
      "outputs": [
        {
          "output_type": "execute_result",
          "data": {
            "text/plain": [
              "((100, 20), (100,))"
            ]
          },
          "metadata": {
            "tags": []
          },
          "execution_count": 54
        }
      ]
    },
    {
      "cell_type": "code",
      "metadata": {
        "colab": {
          "base_uri": "https://localhost:8080/"
        },
        "id": "l7u-NkbBo5KJ",
        "outputId": "b1c26b3f-2a9f-40b9-b2a6-f9bcf5abe2da"
      },
      "source": [
        "X_train, X_test, y_train, y_test = train_test_split(X, y, test_size = 0.2, stratify= y, shuffle = True, random_state = 123)\n",
        "dt = DecisionTree()\n",
        "dt.fit(X_train, y_train)\n",
        "y_pred = dt.predict(X_test)\n",
        "print(classification_report(y_test, y_pred))"
      ],
      "execution_count": 55,
      "outputs": [
        {
          "output_type": "stream",
          "text": [
            "              precision    recall  f1-score   support\n",
            "\n",
            "           0       0.89      0.80      0.84        10\n",
            "           1       0.82      0.90      0.86        10\n",
            "\n",
            "    accuracy                           0.85        20\n",
            "   macro avg       0.85      0.85      0.85        20\n",
            "weighted avg       0.85      0.85      0.85        20\n",
            "\n"
          ],
          "name": "stdout"
        }
      ]
    }
  ]
}
