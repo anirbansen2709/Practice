{
  "cells": [
    {
      "cell_type": "markdown",
      "metadata": {
        "id": "view-in-github",
        "colab_type": "text"
      },
      "source": [
        "<a href=\"https://colab.research.google.com/github/anirbansen2709/Practice/blob/main/Python.ipynb\" target=\"_parent\"><img src=\"https://colab.research.google.com/assets/colab-badge.svg\" alt=\"Open In Colab\"/></a>"
      ]
    },
    {
      "cell_type": "code",
      "execution_count": 21,
      "metadata": {
        "colab": {
          "base_uri": "https://localhost:8080/"
        },
        "id": "lxx8XcmTixxV",
        "outputId": "efc83a18-ba28-4c1a-b133-51a4b09e92df"
      },
      "outputs": [
        {
          "output_type": "stream",
          "name": "stdout",
          "text": [
            "Substring Check: True\n",
            "Split: ['Hello', 'World']\n",
            "Replace: Hello India\n",
            "Strip: HelloWorld\n",
            "Find 1\n",
            "Index 1\n"
          ]
        }
      ],
      "source": [
        "#Strings\n",
        "print(\"Substring Check:\", \"hello\" in \"hello world!\")\n",
        "print(\"Split:\", \"Hello,World\".split(\",\"))\n",
        "print(\"Replace:\", \"Hello World\".replace(\"World\", \"India\"))\n",
        "print(\"Strip:\", \"    Hello      \".strip(\" \") + 'World')\n",
        "print(\"Find\", \"hello\".find('e')) #Returns -1 if not present\n",
        "print(\"Index\", \"hello\".index('e')) #Throws a \"ValueError substring not found\" if not present"
      ]
    },
    {
      "cell_type": "code",
      "execution_count": 57,
      "metadata": {
        "colab": {
          "base_uri": "https://localhost:8080/"
        },
        "id": "REZ9gi1ti1qF",
        "outputId": "acb57701-9233-4d57-c4d4-6c0a22b89004"
      },
      "outputs": [
        {
          "output_type": "stream",
          "name": "stdout",
          "text": [
            "Joined as string grapes apple banana\n",
            "Check True\n",
            "['apple', 'banana', 'grapes']\n",
            "['grapes', 'banana', 'apple']\n",
            "2\n",
            "['grapes', 'banana', 'apple', ['papaya']]\n",
            "['grapes', 'banana', 'apple', ['papaya'], 'mango']\n",
            "['grapes', 'pear', 'banana', 'apple', ['papaya'], 'mango']\n",
            "Freq of value 1\n",
            "list l []\n",
            "list b ['grapes', 'pear', 'banana', 'apple', ['papaya'], 'mango']\n",
            "list b ['pear', 'banana', 'apple', ['papaya'], 'mango']\n",
            "['pear', 'banana', 'apple', ['papaya']]\n",
            "['pear', 'banana', ['papaya']]\n",
            "['pear', 'orange', ['papaya']]\n"
          ]
        }
      ],
      "source": [
        "#List - ordered, changeable, allows duplicate\n",
        "l = [ \"grapes\",\"apple\", \"banana\"]\n",
        "print(\"Joined as string\", \" \".join(l))\n",
        "print(\"Check\", \"apple\" in l)\n",
        "\n",
        "l.sort()\n",
        "print(l)\n",
        "l.reverse()\n",
        "print(l)\n",
        "print(l.index(\"apple\")) #Same as string - Throws a \"ValueError substring not found\" if not present\n",
        "#--\n",
        "l.append([\"papaya\"]) #Returns None and appends\n",
        "print(l)\n",
        "#\n",
        "l.extend(['mango']) #Combines 2 list instead of adding it as a list\n",
        "print(l)\n",
        "#--\n",
        "l.insert(1, \"pear\") #inserts a value at a given index\n",
        "print(l)\n",
        "print(\"Freq of value\", l.count(\"apple\"))\n",
        "\n",
        "b = l.copy() #Creates a deep copy/wont change if l changes\n",
        "l.clear() #Empties the list \n",
        "print(\"list l\", l), print(\"list b\", b)\n",
        "del b[0] # del b to delete entire list - printing b will throw an error as it is not emptied, it is deleted\n",
        "print(\"list b\", b)\n",
        "b.pop() #by defualt deletes the last index element, we can pass the index\n",
        "print(b)\n",
        "b.remove(\"apple\") #Removes an element by value, throws error if not present\n",
        "print(b)\n",
        "print([x if x!= \"banana\" else \"orange\" for x in b])"
      ]
    },
    {
      "cell_type": "code",
      "execution_count": 67,
      "metadata": {
        "colab": {
          "base_uri": "https://localhost:8080/"
        },
        "id": "-6XWSF0Ni-YV",
        "outputId": "3393047b-22fb-48dd-b50d-59021f42e637"
      },
      "outputs": [
        {
          "output_type": "stream",
          "name": "stdout",
          "text": [
            "([2, 1, 1], 2, 3, 2)\n",
            "1\n",
            "2\n"
          ]
        }
      ],
      "source": [
        "#tuples - ordered, unchangeable and allows duplicates\n",
        "a = ([1, 1, 1], 2, 3, 2)\n",
        "a[0][0] = 2 # a[0] = 2 - will throw error but this didn't as tuples references to the list and the references hasn't changed\n",
        "print(a)\n",
        "print(a.index(2))\n",
        "print(a.count(2))"
      ]
    },
    {
      "cell_type": "code",
      "execution_count": 91,
      "metadata": {
        "colab": {
          "base_uri": "https://localhost:8080/"
        },
        "id": "kXD63rqkjkRs",
        "outputId": "682b83cc-48d2-46ae-b46d-1f56875ed960"
      },
      "outputs": [
        {
          "output_type": "stream",
          "name": "stdout",
          "text": [
            "{'grapes', 'apple', 'orange'}\n",
            "{'grapes', 'apple', 'orange', 'banana'}\n",
            "{'grapes'}\n",
            "{'banana', 'apple', 'orange', 'man', 'grapes'}\n",
            "{'orange', 'banana', 'apple', 'man'}\n",
            "{'grapes', 'apple'}\n",
            "{'apple'} {'grapes', 'apple', 'orange', 'banana'}\n",
            "False True False\n"
          ]
        }
      ],
      "source": [
        "#set - unordered and doesn't allow duplicates\n",
        "a = {\"grapes\",\"apple\"}\n",
        "b = {\"grapes\", \"man\"}\n",
        "a.add('orange')\n",
        "print(a)\n",
        "a.update({\"banana\"}) #same as how extend works for lists\n",
        "print(a)\n",
        "print(a.intersection(b))\n",
        "print(a.union(b))\n",
        "print(a.symmetric_difference(b)) # A-B U B-A\n",
        "\n",
        "c = a.copy()\n",
        "a.discard('orange') #will not do anything if value not present\n",
        "a.remove('banana') # will throw an error if value not present\n",
        "print(a)\n",
        "a.pop()\n",
        "print(a, c)\n",
        "\n",
        "print(a.isdisjoint(c), a.issubset(c), a.issuperset(c))"
      ]
    },
    {
      "cell_type": "code",
      "execution_count": 149,
      "metadata": {
        "id": "8M27UCNikOpN",
        "colab": {
          "base_uri": "https://localhost:8080/"
        },
        "outputId": "1c8ee99b-666b-43b5-9b12-de01592f9174"
      },
      "outputs": [
        {
          "output_type": "stream",
          "name": "stdout",
          "text": [
            "dict_keys([1, 2, 3]) dict_values(['a', 'b', 'c']) dict_items([(1, 'a'), (2, 'b'), (3, 'c')])\n",
            "z\n",
            "{1: 'z', 2: 'b', 3: 'c', 4: 'l'}\n",
            "{1: 'z', 2: 'b'}\n",
            "{}\n",
            "{'A': 1, 'B': 2, 'C': 3}\n"
          ]
        }
      ],
      "source": [
        "#Dictionary\n",
        "d = {1:'a', 2:'b', 3:'c'}\n",
        "d.setdefault(3, \"abc\") # if 3 doesnot exist than add this as key-value else ignore\n",
        "print(d.keys(), d.values(), d.items())\n",
        "d[1] = 'z'\n",
        "print(d[1])\n",
        "d[4] = 'l'\n",
        "print(d)\n",
        "\n",
        "d.pop(3)\n",
        "d.popitem() #removes last inserted item\n",
        "print(d)\n",
        "d.clear()\n",
        "print(d)\n",
        "del d # deletes the dictionary printing will show error\n",
        "\n",
        "print(dict(zip(['A', 'B', 'C'], [1, 2, 3])))"
      ]
    },
    {
      "cell_type": "code",
      "source": [
        "# Args, Kwargs\n",
        "def print_something(*args, **kwargs): #Parameters\n",
        "  print(args)\n",
        "  print(kwargs)\n",
        "\n",
        "print_something(\"A\", \"B\", \"C\", a = 'A', b = 'B') #Arguments"
      ],
      "metadata": {
        "colab": {
          "base_uri": "https://localhost:8080/"
        },
        "id": "wWaelkII_k4l",
        "outputId": "62be767b-7909-442f-e44b-7e281fe8080f"
      },
      "execution_count": 118,
      "outputs": [
        {
          "output_type": "stream",
          "name": "stdout",
          "text": [
            "('A', 'B', 'C')\n",
            "{'a': 'A', 'b': 'B'}\n"
          ]
        }
      ]
    },
    {
      "cell_type": "code",
      "source": [
        "#Lambda Functions\n",
        "x = lambda a, b, c : a+b+c\n",
        "print(x(1, 2,3 ))"
      ],
      "metadata": {
        "colab": {
          "base_uri": "https://localhost:8080/"
        },
        "id": "LNdlS3SkCLIz",
        "outputId": "f43def4c-e420-415c-a085-fc0a768baf48"
      },
      "execution_count": 119,
      "outputs": [
        {
          "output_type": "stream",
          "name": "stdout",
          "text": [
            "6\n"
          ]
        }
      ]
    },
    {
      "cell_type": "code",
      "source": [
        "#Class\n",
        "class X():\n",
        "  pass\n",
        "\n",
        "class A(X):\n",
        "  def __init__(self, a):\n",
        "    print(a)\n",
        "\n",
        "class B():\n",
        "  def __init__(self):\n",
        "    print(\"B\")\n",
        "\n",
        "class C(A, B):\n",
        "  def __init__(self, a, c):\n",
        "    super().__init__(a) #This calls the super-class init function using MRO\n",
        "    print(c)\n",
        "\n",
        "a1 = A(\"A\")\n",
        "b1 = B()\n",
        "c1 = C(\"A\", \"C\")\n",
        "C.mro() #Use class_name.mro() to print Method Resolution Order"
      ],
      "metadata": {
        "colab": {
          "base_uri": "https://localhost:8080/"
        },
        "id": "Nx216YT6Dr2b",
        "outputId": "3f8fec74-5a89-401a-bc43-b7174d7ffed9"
      },
      "execution_count": 131,
      "outputs": [
        {
          "output_type": "stream",
          "name": "stdout",
          "text": [
            "A\n",
            "B\n",
            "A\n",
            "C\n"
          ]
        },
        {
          "output_type": "execute_result",
          "data": {
            "text/plain": [
              "[__main__.C, __main__.A, __main__.X, __main__.B, object]"
            ]
          },
          "metadata": {},
          "execution_count": 131
        }
      ]
    },
    {
      "cell_type": "code",
      "source": [
        "#Files\n",
        "\n",
        "f = open(\"test_file.txt\", 'w') # file_name, mode - w - write, a - append, r - read . Will create a file in a/w mode if file doesn't exist, in r throws error\n",
        "f.write(\"Hello World!\\n\")\n",
        "f.write(\"Hello India!\\n\")\n",
        "f.write(\"Hello Kolkata!\")\n",
        "f.close()\n",
        "\n",
        "f = open(\"test_file.txt\")\n",
        "print(\"ReadLine - \", f.readline()) #Reads First Line\n",
        "\n",
        "f = open(\"test_file.txt\")\n",
        "print(\"Read - \", f.read())\n",
        "\n",
        "print('One row at a time')\n",
        "f = open(\"test_file.txt\")\n",
        "for x in f:\n",
        "  print(x)\n",
        "f.close()\n",
        "\n",
        "import os\n",
        "if os.path.exists(\"test_file.txt\"):\n",
        "  os.remove(\"test_file.txt\")"
      ],
      "metadata": {
        "colab": {
          "base_uri": "https://localhost:8080/"
        },
        "id": "TyM9JSkOHBqd",
        "outputId": "0c666c44-e464-459c-dab8-cb92a28155a5"
      },
      "execution_count": 147,
      "outputs": [
        {
          "output_type": "stream",
          "name": "stdout",
          "text": [
            "ReadLine -  Hello World!\n",
            "\n",
            "Read -  Hello World!\n",
            "Hello India!\n",
            "Hello Kolkata!\n",
            "One row at a time\n",
            "Hello World!\n",
            "\n",
            "Hello India!\n",
            "\n",
            "Hello Kolkata!\n"
          ]
        }
      ]
    },
    {
      "cell_type": "code",
      "source": [
        "# Iterator & Generator \n",
        "l = [1, 2, 3, 4] # Iterable\n",
        "it = iter(l) #Iterator\n",
        "print(next(it), next(it))\n",
        "\n",
        "#generator\n",
        "def gen_num():\n",
        "  i = 1\n",
        "  while i<=4:\n",
        "    yield i\n",
        "    i+=1\n",
        "\n",
        "for i in gen_num():\n",
        "print(i)\n",
        "\n",
        "#diff\n",
        "#1. generator saves state in the function\n",
        "#2. generator uses only 1 value at a time - less memory usage\n",
        "#3. Iterator allows for flexibility "
      ],
      "metadata": {
        "colab": {
          "base_uri": "https://localhost:8080/"
        },
        "id": "bx42yjOfJ3gY",
        "outputId": "9fbcc64e-f79d-4e14-dd7f-2895dffdfdbb"
      },
      "execution_count": 156,
      "outputs": [
        {
          "output_type": "stream",
          "name": "stdout",
          "text": [
            "1 2\n",
            "1\n",
            "2\n",
            "3\n",
            "4\n"
          ]
        }
      ]
    },
    {
      "cell_type": "code",
      "source": [
        "#Filter, Map, Reduce\n",
        "from functools import reduce\n",
        "a = [1, 2, 3, 4, 5, 6, 7]\n",
        "\n",
        "evens = list(filter(lambda x: x%2==0, a)) #filter all evens\n",
        "evens_squared = list(map(lambda x:x*x, evens))\n",
        "sum = reduce(lambda x, y: x+y, evens_squared)\n",
        "print(evens, evens_squared, sum)"
      ],
      "metadata": {
        "colab": {
          "base_uri": "https://localhost:8080/"
        },
        "id": "ziKHNIzdbAwc",
        "outputId": "11de7426-7c7e-4078-8fd4-22c3adec6d16"
      },
      "execution_count": 165,
      "outputs": [
        {
          "output_type": "stream",
          "name": "stdout",
          "text": [
            "[2, 4, 6] [4, 16, 36] 56\n"
          ]
        }
      ]
    },
    {
      "cell_type": "code",
      "source": [
        "# Access Modifier - public, protected, private - Not forced in python\n",
        "\n",
        "class Demo():\n",
        "  def __init__(self, a, b, c):\n",
        "    self.a = a #Public - Access from the object, within class & subclass\n",
        "    self._b = b #Protected - Access within class & subclass\n",
        "    self.__c = c #Private - Acess only within class\n",
        "\n",
        "  def print_c(self):\n",
        "    print(self.__c)\n",
        "\n",
        "class Sub(Demo):\n",
        "  def __init__(self, a, b, c):\n",
        "    super().__init__(a, b, c)\n",
        "\n",
        "  def print_b(self):\n",
        "    print(self._b)\n",
        "\n",
        "d = Demo(1, 2, 3)\n",
        "s = Sub(4, 5, 6)\n",
        "print(d.a) #accessing public\n",
        "print(s.print_b()) #accessing protected\n",
        "print(d.print_c())"
      ],
      "metadata": {
        "colab": {
          "base_uri": "https://localhost:8080/"
        },
        "id": "4N3h9qB7d7IO",
        "outputId": "a32b33ae-7fce-413b-cd63-60ddc79b1247"
      },
      "execution_count": 175,
      "outputs": [
        {
          "output_type": "stream",
          "name": "stdout",
          "text": [
            "1\n",
            "5\n",
            "None\n",
            "3\n",
            "None\n"
          ]
        }
      ]
    },
    {
      "cell_type": "code",
      "source": [
        "#Class Method and static method\n",
        "from datetime import date\n",
        "\n",
        "class Person():\n",
        "  def __init__(self, name, age):\n",
        "    self.name = name\n",
        "    self.age = age\n",
        "\n",
        "  @classmethod #decorator for class method - Is bounded to class (not object) & class is passed as parameter\n",
        "  def from_birthyear(cls, name, year):\n",
        "    return cls(name, date.today().year - year)\n",
        "\n",
        "  @staticmethod #decorator for static method - Is also bounded to class for util functions but shouldnot access class variables\n",
        "  def isAdult(age):\n",
        "    return age > 18\n",
        "\n",
        "a = Person('ABC', 21)\n",
        "print(a.age)\n",
        "b = Person.from_birthyear('DEF', 2021)\n",
        "print(b.age)\n",
        "Person.isAdult(2)"
      ],
      "metadata": {
        "colab": {
          "base_uri": "https://localhost:8080/"
        },
        "id": "v2qkmATwbEhm",
        "outputId": "ef87bc52-d9be-4cc0-b40d-d8d19b096c3b"
      },
      "execution_count": 185,
      "outputs": [
        {
          "output_type": "stream",
          "name": "stdout",
          "text": [
            "21\n",
            "2\n"
          ]
        },
        {
          "output_type": "execute_result",
          "data": {
            "text/plain": [
              "False"
            ]
          },
          "metadata": {},
          "execution_count": 185
        }
      ]
    },
    {
      "cell_type": "code",
      "source": [
        "#Closures & decorators\n",
        "#Closures Function - Preferred over global variable\n",
        "def outer(msg):\n",
        "  def inner(): # 1. Nested Function\n",
        "    print(msg) # 2. Nested Function refers to a variable from enclosed function - msg\n",
        "  return inner # 3. The enclosing function must return the nested function\n",
        "\n",
        "o = outer('Hello')\n",
        "del outer\n",
        "o() # Prints Hello even after deletion of function (saved state msg) - Attaching data to code this way is called closures"
      ],
      "metadata": {
        "colab": {
          "base_uri": "https://localhost:8080/"
        },
        "id": "zCt8elSwnRtl",
        "outputId": "21152f48-7306-407e-8a2e-99e084ec8aa4"
      },
      "execution_count": 208,
      "outputs": [
        {
          "output_type": "stream",
          "name": "stdout",
          "text": [
            "Hello\n"
          ]
        }
      ]
    },
    {
      "cell_type": "code",
      "source": [
        "#Decorator Function - Add functionality to a code\n",
        "def outer(func):\n",
        "  def inner(a, b):\n",
        "    print('Hi!')\n",
        "    return func(a, b)\n",
        "  return inner\n",
        "\n",
        "@outer\n",
        "def do_something(a, b):\n",
        "  return 4 * 2\n",
        "\n",
        "do_something(4, 2)"
      ],
      "metadata": {
        "colab": {
          "base_uri": "https://localhost:8080/"
        },
        "id": "vbmKVIbBsUcw",
        "outputId": "bf1cf37b-a1bc-4edd-e402-688e69f09ad5"
      },
      "execution_count": 209,
      "outputs": [
        {
          "output_type": "stream",
          "name": "stdout",
          "text": [
            "Hi!\n"
          ]
        },
        {
          "output_type": "execute_result",
          "data": {
            "text/plain": [
              "8"
            ]
          },
          "metadata": {},
          "execution_count": 209
        }
      ]
    },
    {
      "cell_type": "code",
      "source": [],
      "metadata": {
        "id": "E8vSPiEpyOY3"
      },
      "execution_count": null,
      "outputs": []
    }
  ],
  "metadata": {
    "colab": {
      "provenance": [],
      "authorship_tag": "ABX9TyNUdQonLXuUkWvwwk2yiLXX",
      "include_colab_link": true
    },
    "kernelspec": {
      "display_name": "Python 3",
      "name": "python3"
    },
    "language_info": {
      "name": "python"
    }
  },
  "nbformat": 4,
  "nbformat_minor": 0
}