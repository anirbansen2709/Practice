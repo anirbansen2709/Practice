{
  "nbformat": 4,
  "nbformat_minor": 0,
  "metadata": {
    "colab": {
      "name": "KNN Classification from scratch.ipynb",
      "provenance": [],
      "collapsed_sections": [],
      "authorship_tag": "ABX9TyMLJr4EtA7dp1Tvgo4Q3H4S",
      "include_colab_link": true
    },
    "kernelspec": {
      "name": "python3",
      "display_name": "Python 3"
    },
    "language_info": {
      "name": "python"
    }
  },
  "cells": [
    {
      "cell_type": "markdown",
      "metadata": {
        "id": "view-in-github",
        "colab_type": "text"
      },
      "source": [
        "<a href=\"https://colab.research.google.com/github/anirbansen3027/Practice/blob/main/KNN_Classification_from_scratch.ipynb\" target=\"_parent\"><img src=\"https://colab.research.google.com/assets/colab-badge.svg\" alt=\"Open In Colab\"/></a>"
      ]
    },
    {
      "cell_type": "code",
      "metadata": {
        "id": "ZlDYACJ7gTcn"
      },
      "source": [
        "import numpy as np\n",
        "from sklearn.metrics import confusion_matrix"
      ],
      "execution_count": 67,
      "outputs": []
    },
    {
      "cell_type": "code",
      "metadata": {
        "id": "ZkPFYfw2X-bE"
      },
      "source": [
        "class KNeighborsClassifier:\n",
        "  def __init__(self, n_neighbors = 5):\n",
        "    self.n_neighbors = n_neighbors\n",
        "    self.X_train = None\n",
        "    self.y_train = None\n",
        "\n",
        "  def fit(self, X_train, y_train):\n",
        "    self.X_train = X_train\n",
        "    self.y_train = y_train\n",
        "\n",
        "  def predict(self, X_test):\n",
        "    y_test = []\n",
        "    for row_test in X_test:\n",
        "      dist_arr = []\n",
        "      for row_train, label in zip(self.X_train, self.y_train):\n",
        "        dist = np.linalg.norm(row_train - row_test)\n",
        "        dist_arr.append((dist, label))\n",
        "      dist_arr.sort(key = lambda x:x[0])\n",
        "      dist_arr = dist_arr[:5]\n",
        "      labels = [i[1] for i in dist_arr]\n",
        "      pred = max(set(labels), key= labels.count)\n",
        "      y_test.append(pred)\n",
        "    return y_test"
      ],
      "execution_count": 60,
      "outputs": []
    },
    {
      "cell_type": "code",
      "metadata": {
        "colab": {
          "base_uri": "https://localhost:8080/"
        },
        "id": "5NXX54lSaRm9",
        "outputId": "ccf7cbbf-4de5-4fe3-c238-a542db6a71b5"
      },
      "source": [
        "from sklearn.datasets import make_classification\n",
        "X, y = make_classification()\n",
        "X.shape, y.shape"
      ],
      "execution_count": 61,
      "outputs": [
        {
          "output_type": "execute_result",
          "data": {
            "text/plain": [
              "((100, 20), (100,))"
            ]
          },
          "metadata": {
            "tags": []
          },
          "execution_count": 61
        }
      ]
    },
    {
      "cell_type": "code",
      "metadata": {
        "id": "zsZHYyeBfary"
      },
      "source": [
        "model = KNeighborsClassifier()\n",
        "model.fit(X[:70], y[:70])"
      ],
      "execution_count": 62,
      "outputs": []
    },
    {
      "cell_type": "code",
      "metadata": {
        "colab": {
          "base_uri": "https://localhost:8080/"
        },
        "id": "NFNGeEoigGGD",
        "outputId": "cfba5db0-dad3-40ae-ac08-6da8f26c9923"
      },
      "source": [
        "y_preds= model.predict(X[70:])\n",
        "print(confusion_matrix(y[70:], y_preds))"
      ],
      "execution_count": 68,
      "outputs": [
        {
          "output_type": "stream",
          "text": [
            "[[11  1]\n",
            " [ 1 17]]\n"
          ],
          "name": "stdout"
        }
      ]
    }
  ]
}